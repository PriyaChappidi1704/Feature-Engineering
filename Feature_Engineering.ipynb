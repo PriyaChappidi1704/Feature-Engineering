{
  "nbformat": 4,
  "nbformat_minor": 0,
  "metadata": {
    "colab": {
      "provenance": []
    },
    "kernelspec": {
      "name": "python3",
      "display_name": "Python 3"
    },
    "language_info": {
      "name": "python"
    }
  },
  "cells": [
    {
      "cell_type": "markdown",
      "source": [
        "# **Feature Engineering**"
      ],
      "metadata": {
        "id": "JUp6q3OMakl4"
      }
    },
    {
      "cell_type": "markdown",
      "source": [
        "1. What is a parameter?\n",
        "  - A parameter is a configuration variable used by a model to make predictions, learned from training data. In machine learning, weights and biases are common examples of parameters.\n",
        "2. What is correlation? What does negative correlation mean?\n",
        "  - Correlation is a statistical measure that expresses the strength and direction of a linear relationship between two variables. It ranges from -1 to +1.\n",
        "  - Negative correlation means that as one variable increases, the other decreases. A value close to -1 indicates a strong negative relationship.\n",
        "3. Define Machine Learning. What are the main components in Machine Learning?\n",
        "  - Machine Learning is a branch of AI that enables systems to learn from data and improve without being explicitly programmed. Its main components are data, model, loss function, and optimizer.\n",
        "4. How does loss value help in determining whether the model is good or not?\n",
        "  - The loss value quantifies how far off the model's predictions are from the actual values. A lower loss indicates a better-performing model.\n",
        "5. What are continuous and categorical variables?\n",
        "  - Continuous variables have numeric values with infinite possibilities (e.g., height), while categorical variables represent distinct groups or categories (e.g., gender).\n",
        "6. How do we handle categorical variables in Machine Learning? What are the common techniques?\n",
        "  - Categorical variables are handled using encoding techniques such as One-Hot Encoding and Label Encoding, which convert categories into numerical form.\n",
        "7. What do you mean by training and testing a dataset?\n",
        "  - Training data is used to train the model, while testing data is used to evaluate the model's performance on unseen data.\n",
        "8. What is sklearn.preprocessing?\n",
        "sklearn.preprocessing is a module in Scikit-learn used for data preprocessing tasks like scaling, encoding, and normalization to prepare data for modeling.\n",
        "9. What is a Test set?\n",
        "  - A test set is a portion of the dataset used to evaluate the performance of a trained model. It helps estimate how the model will perform on real-world data.\n",
        "10. How do we split data for model fitting (training and testing) in Python? How do you approach a Machine Learning problem?\n",
        "  - We use train_test_split() from sklearn.model_selection to divide the dataset into training and testing sets, usually in an 80:20 or 70:30 ratio.\n",
        "  - A typical ML approach involves problem understanding, data collection, preprocessing, model selection, training, evaluation, and deployment.\n",
        "11. Why do we have to perform EDA before fitting a model to the data?\n",
        "  - Exploratory Data Analysis (EDA) helps understand data patterns, detect outliers, and identify relationships, which guides model selection and preprocessing.\n",
        "12. What is correlation?\n",
        "  - Correlation measures the linear relationship between two variables, indicating whether and how strongly they move together.\n",
        "13. What does negative correlation mean?\n",
        "  - Negative correlation shows that as one variable increases, the other decreases, suggesting an inverse relationship.\n",
        "14. How can you find correlation between variables in Python?\n",
        "  - Use df.corr() on a Pandas DataFrame to compute the correlation matrix, and visualize with a heatmap using Seaborn.\n",
        "15. What is causation? Explain difference between correlation and causation with an example.\n",
        "  - Causation implies that one variable directly affects another, while correlation only indicates a relationship. For example, ice cream sales and drowning rates may be correlated due to summer but do not cause each other.\n",
        "16. What is an Optimizer? What are different types of optimizers? Explain each with an example.\n",
        "  - An optimizer updates model parameters to minimize loss. Common types include:\n",
        "  - SGD: Updates weights using gradient descent.\n",
        "  - Adam: Combines momentum and adaptive learning rate.\n",
        "  - RMSprop: Maintains a moving average of squared gradients.\n",
        "17. What is sklearn.linear_model?\n",
        "  - sklearn.linear_model is a Scikit-learn module containing linear models like LinearRegression and LogisticRegression used for regression and classification tasks.\n",
        "18. What does model.fit() do? What arguments must be given?\n",
        "  - model.fit(X, y) trains the model using input features X and target values y. It learns the parameters during this process.\n",
        "19. What does model.predict() do? What arguments must be given?\n",
        "  - model.predict(X) uses the trained model to make predictions on input features X.\n",
        "20. What are continuous and categorical variables?\n",
        "  - Continuous variables can take any numeric value within a range, while categorical variables represent fixed groups or classes.\n",
        "21. What is feature scaling? How does it help in Machine Learning?\n",
        "  - Feature scaling standardizes the range of features to treat all variables equally, improving model performance and convergence speed.\n",
        "22. How do we perform scaling in Python?\n",
        "  - We use StandardScaler or MinMaxScaler from sklearn.preprocessing to scale features to a standard range.\n",
        "23. What is sklearn.preprocessing?\n",
        "  - It is a Scikit-learn module offering tools for preprocessing data like scaling, encoding, and transforming to prepare it for ML algorithms.\n",
        "24. How do we split data for model fitting (training and testing) in Python?\n",
        "  - Use train_test_split(X, y, test_size=0.2) from sklearn.model_selection to randomly divide data into training and test sets.\n",
        "25. Explain data encoding?\n",
        "  - Data encoding converts categorical variables into numeric form so that ML algorithms can process them. Common techniques include Label Encoding and One-Hot Encoding."
      ],
      "metadata": {
        "id": "JriERcxtasKv"
      }
    }
  ]
}